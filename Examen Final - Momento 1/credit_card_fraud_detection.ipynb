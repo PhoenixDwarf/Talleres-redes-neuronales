{
 "cells": [
  {
   "cell_type": "markdown",
   "id": "036112ed",
   "metadata": {},
   "source": [
    "# Credit Card Fraud Detection con GANs y Modelos Tradicionales\n",
    "\n",
    "Este notebook aborda el problema de detección de fraude en tarjetas de crédito usando técnicas avanzadas de oversampling con GANs y modelos de clasificación tradicionales.\n",
    "\n",
    "## Objetivos\n",
    "- Analizar el desbalance del dataset.\n",
    "- Preprocesar los datos (escalado, limpieza).\n",
    "- Generar fraudes sintéticos con GANs (CTGAN).\n",
    "- Entrenar y evaluar modelos tradicionales (RandomForest, XGBoost, etc.).\n",
    "- Medir desempeño con métricas adecuadas para desbalance.\n",
    "\n",
    "---"
   ]
  },
  {
   "cell_type": "markdown",
   "id": "2cf58664",
   "metadata": {},
   "source": [
    "## Imports y configuración inicial"
   ]
  },
  {
   "cell_type": "code",
   "execution_count": 9,
   "id": "1fb9765d",
   "metadata": {},
   "outputs": [],
   "source": [
    "# Librerías principales\n",
    "import pandas as pd\n",
    "import numpy as np\n",
    "import matplotlib.pyplot as plt\n",
    "import seaborn as sns\n",
    "\n",
    "# Modelos y métricas\n",
    "from sklearn.model_selection import train_test_split\n",
    "from sklearn.preprocessing import StandardScaler, MinMaxScaler\n",
    "from sklearn.ensemble import RandomForestClassifier\n",
    "from sklearn.metrics import classification_report, confusion_matrix, precision_recall_curve, auc\n",
    "\n",
    "# Importar CTGAN\n",
    "from ctgan import CTGAN\n",
    "# Configuración de visualización\n",
    "\n",
    "sns.set_theme(style='whitegrid')\n",
    "plt.rcParams['figure.figsize'] = (10,6)"
   ]
  },
  {
   "cell_type": "markdown",
   "id": "c4356205",
   "metadata": {},
   "source": [
    "## Cargar y explorar el dataset"
   ]
  },
  {
   "cell_type": "code",
   "execution_count": 10,
   "id": "f7a20a73",
   "metadata": {},
   "outputs": [
    {
     "name": "stdout",
     "output_type": "stream",
     "text": [
      "Shape: (284807, 31)\n"
     ]
    },
    {
     "data": {
      "text/html": [
       "<div>\n",
       "<style scoped>\n",
       "    .dataframe tbody tr th:only-of-type {\n",
       "        vertical-align: middle;\n",
       "    }\n",
       "\n",
       "    .dataframe tbody tr th {\n",
       "        vertical-align: top;\n",
       "    }\n",
       "\n",
       "    .dataframe thead th {\n",
       "        text-align: right;\n",
       "    }\n",
       "</style>\n",
       "<table border=\"1\" class=\"dataframe\">\n",
       "  <thead>\n",
       "    <tr style=\"text-align: right;\">\n",
       "      <th></th>\n",
       "      <th>Time</th>\n",
       "      <th>V1</th>\n",
       "      <th>V2</th>\n",
       "      <th>V3</th>\n",
       "      <th>V4</th>\n",
       "      <th>V5</th>\n",
       "      <th>V6</th>\n",
       "      <th>V7</th>\n",
       "      <th>V8</th>\n",
       "      <th>V9</th>\n",
       "      <th>...</th>\n",
       "      <th>V21</th>\n",
       "      <th>V22</th>\n",
       "      <th>V23</th>\n",
       "      <th>V24</th>\n",
       "      <th>V25</th>\n",
       "      <th>V26</th>\n",
       "      <th>V27</th>\n",
       "      <th>V28</th>\n",
       "      <th>Amount</th>\n",
       "      <th>Class</th>\n",
       "    </tr>\n",
       "  </thead>\n",
       "  <tbody>\n",
       "    <tr>\n",
       "      <th>0</th>\n",
       "      <td>0.0</td>\n",
       "      <td>-1.359807</td>\n",
       "      <td>-0.072781</td>\n",
       "      <td>2.536347</td>\n",
       "      <td>1.378155</td>\n",
       "      <td>-0.338321</td>\n",
       "      <td>0.462388</td>\n",
       "      <td>0.239599</td>\n",
       "      <td>0.098698</td>\n",
       "      <td>0.363787</td>\n",
       "      <td>...</td>\n",
       "      <td>-0.018307</td>\n",
       "      <td>0.277838</td>\n",
       "      <td>-0.110474</td>\n",
       "      <td>0.066928</td>\n",
       "      <td>0.128539</td>\n",
       "      <td>-0.189115</td>\n",
       "      <td>0.133558</td>\n",
       "      <td>-0.021053</td>\n",
       "      <td>149.62</td>\n",
       "      <td>0</td>\n",
       "    </tr>\n",
       "    <tr>\n",
       "      <th>1</th>\n",
       "      <td>0.0</td>\n",
       "      <td>1.191857</td>\n",
       "      <td>0.266151</td>\n",
       "      <td>0.166480</td>\n",
       "      <td>0.448154</td>\n",
       "      <td>0.060018</td>\n",
       "      <td>-0.082361</td>\n",
       "      <td>-0.078803</td>\n",
       "      <td>0.085102</td>\n",
       "      <td>-0.255425</td>\n",
       "      <td>...</td>\n",
       "      <td>-0.225775</td>\n",
       "      <td>-0.638672</td>\n",
       "      <td>0.101288</td>\n",
       "      <td>-0.339846</td>\n",
       "      <td>0.167170</td>\n",
       "      <td>0.125895</td>\n",
       "      <td>-0.008983</td>\n",
       "      <td>0.014724</td>\n",
       "      <td>2.69</td>\n",
       "      <td>0</td>\n",
       "    </tr>\n",
       "    <tr>\n",
       "      <th>2</th>\n",
       "      <td>1.0</td>\n",
       "      <td>-1.358354</td>\n",
       "      <td>-1.340163</td>\n",
       "      <td>1.773209</td>\n",
       "      <td>0.379780</td>\n",
       "      <td>-0.503198</td>\n",
       "      <td>1.800499</td>\n",
       "      <td>0.791461</td>\n",
       "      <td>0.247676</td>\n",
       "      <td>-1.514654</td>\n",
       "      <td>...</td>\n",
       "      <td>0.247998</td>\n",
       "      <td>0.771679</td>\n",
       "      <td>0.909412</td>\n",
       "      <td>-0.689281</td>\n",
       "      <td>-0.327642</td>\n",
       "      <td>-0.139097</td>\n",
       "      <td>-0.055353</td>\n",
       "      <td>-0.059752</td>\n",
       "      <td>378.66</td>\n",
       "      <td>0</td>\n",
       "    </tr>\n",
       "    <tr>\n",
       "      <th>3</th>\n",
       "      <td>1.0</td>\n",
       "      <td>-0.966272</td>\n",
       "      <td>-0.185226</td>\n",
       "      <td>1.792993</td>\n",
       "      <td>-0.863291</td>\n",
       "      <td>-0.010309</td>\n",
       "      <td>1.247203</td>\n",
       "      <td>0.237609</td>\n",
       "      <td>0.377436</td>\n",
       "      <td>-1.387024</td>\n",
       "      <td>...</td>\n",
       "      <td>-0.108300</td>\n",
       "      <td>0.005274</td>\n",
       "      <td>-0.190321</td>\n",
       "      <td>-1.175575</td>\n",
       "      <td>0.647376</td>\n",
       "      <td>-0.221929</td>\n",
       "      <td>0.062723</td>\n",
       "      <td>0.061458</td>\n",
       "      <td>123.50</td>\n",
       "      <td>0</td>\n",
       "    </tr>\n",
       "    <tr>\n",
       "      <th>4</th>\n",
       "      <td>2.0</td>\n",
       "      <td>-1.158233</td>\n",
       "      <td>0.877737</td>\n",
       "      <td>1.548718</td>\n",
       "      <td>0.403034</td>\n",
       "      <td>-0.407193</td>\n",
       "      <td>0.095921</td>\n",
       "      <td>0.592941</td>\n",
       "      <td>-0.270533</td>\n",
       "      <td>0.817739</td>\n",
       "      <td>...</td>\n",
       "      <td>-0.009431</td>\n",
       "      <td>0.798278</td>\n",
       "      <td>-0.137458</td>\n",
       "      <td>0.141267</td>\n",
       "      <td>-0.206010</td>\n",
       "      <td>0.502292</td>\n",
       "      <td>0.219422</td>\n",
       "      <td>0.215153</td>\n",
       "      <td>69.99</td>\n",
       "      <td>0</td>\n",
       "    </tr>\n",
       "  </tbody>\n",
       "</table>\n",
       "<p>5 rows × 31 columns</p>\n",
       "</div>"
      ],
      "text/plain": [
       "   Time        V1        V2        V3        V4        V5        V6        V7  \\\n",
       "0   0.0 -1.359807 -0.072781  2.536347  1.378155 -0.338321  0.462388  0.239599   \n",
       "1   0.0  1.191857  0.266151  0.166480  0.448154  0.060018 -0.082361 -0.078803   \n",
       "2   1.0 -1.358354 -1.340163  1.773209  0.379780 -0.503198  1.800499  0.791461   \n",
       "3   1.0 -0.966272 -0.185226  1.792993 -0.863291 -0.010309  1.247203  0.237609   \n",
       "4   2.0 -1.158233  0.877737  1.548718  0.403034 -0.407193  0.095921  0.592941   \n",
       "\n",
       "         V8        V9  ...       V21       V22       V23       V24       V25  \\\n",
       "0  0.098698  0.363787  ... -0.018307  0.277838 -0.110474  0.066928  0.128539   \n",
       "1  0.085102 -0.255425  ... -0.225775 -0.638672  0.101288 -0.339846  0.167170   \n",
       "2  0.247676 -1.514654  ...  0.247998  0.771679  0.909412 -0.689281 -0.327642   \n",
       "3  0.377436 -1.387024  ... -0.108300  0.005274 -0.190321 -1.175575  0.647376   \n",
       "4 -0.270533  0.817739  ... -0.009431  0.798278 -0.137458  0.141267 -0.206010   \n",
       "\n",
       "        V26       V27       V28  Amount  Class  \n",
       "0 -0.189115  0.133558 -0.021053  149.62      0  \n",
       "1  0.125895 -0.008983  0.014724    2.69      0  \n",
       "2 -0.139097 -0.055353 -0.059752  378.66      0  \n",
       "3 -0.221929  0.062723  0.061458  123.50      0  \n",
       "4  0.502292  0.219422  0.215153   69.99      0  \n",
       "\n",
       "[5 rows x 31 columns]"
      ]
     },
     "execution_count": 10,
     "metadata": {},
     "output_type": "execute_result"
    }
   ],
   "source": [
    "# Cargar el dataset\n",
    "df = pd.read_csv('creditcard.csv')\n",
    "print(f\"Shape: {df.shape}\")\n",
    "df.head()"
   ]
  },
  {
   "cell_type": "code",
   "execution_count": 11,
   "id": "7dd6ae45",
   "metadata": {},
   "outputs": [
    {
     "name": "stdout",
     "output_type": "stream",
     "text": [
      "Class\n",
      "0    284315\n",
      "1       492\n",
      "Name: count, dtype: int64\n"
     ]
    },
    {
     "data": {
      "image/png": "[encoded data removed]",
      "text/plain": [
       "<Figure size 1000x600 with 1 Axes>"
      ]
     },
     "metadata": {},
     "output_type": "display_data"
    }
   ],
   "source": [
    "# Revisar balance de clases\n",
    "print(df['Class'].value_counts())\n",
    "sns.countplot(x='Class', data=df)\n",
    "plt.title('Distribución de clases (0: No Fraude, 1: Fraude)')\n",
    "plt.show()"
   ]
  },
  {
   "cell_type": "markdown",
   "id": "2965c4b7",
   "metadata": {},
   "source": [
    "## Observaciones iniciales\n",
    "\n",
    "- El dataset está altamente desbalanceado (~0.17% fraudes).\n",
    "- Las variables V1-V28 ya están transformadas (PCA).\n",
    "- 'Amount' y 'Time' requieren escalado."
   ]
  },
  {
   "cell_type": "markdown",
   "id": "0b284b00",
   "metadata": {},
   "source": [
    "## Preprocesamiento de datos"
   ]
  },
  {
   "cell_type": "code",
   "execution_count": 12,
   "id": "fbf12a16",
   "metadata": {},
   "outputs": [],
   "source": [
    "# Escalar 'Amount' y 'Time'\n",
    "scaler = MinMaxScaler()\n",
    "df[['Amount', 'Time']] = scaler.fit_transform(df[['Amount', 'Time']])\n",
    "\n",
    "# Separar features y target\n",
    "X = df.drop('Class', axis=1)\n",
    "y = df['Class']"
   ]
  },
  {
   "cell_type": "code",
   "execution_count": 13,
   "id": "ce3150c7",
   "metadata": {},
   "outputs": [
    {
     "name": "stdout",
     "output_type": "stream",
     "text": [
      "Train shape: (227845, 30), Test shape: (56962, 30)\n"
     ]
    }
   ],
   "source": [
    "# Separar en train y test (mantener test sin tocar para evaluación realista)\n",
    "X_train, X_test, y_train, y_test = train_test_split(X, y, test_size=0.2, stratify=y, random_state=42)\n",
    "print(f\"Train shape: {X_train.shape}, Test shape: {X_test.shape}\")"
   ]
  },
  {
   "cell_type": "markdown",
   "id": "4497487d",
   "metadata": {},
   "source": [
    "## Oversampling con CTGAN (Generar fraudes sintéticos)"
   ]
  },
  {
   "cell_type": "code",
   "execution_count": 14,
   "id": "05968ec3",
   "metadata": {},
   "outputs": [
    {
     "name": "stderr",
     "output_type": "stream",
     "text": [
      "Gen. (-3.39) | Discrim. (0.06): 100%|██████████| 300/300 [00:12<00:00, 23.26it/s] \n",
      "\n"
     ]
    },
    {
     "name": "stdout",
     "output_type": "stream",
     "text": [
      "Nuevos fraudes sintéticos: 10998\n",
      "Total fraudes en entrenamiento: 11392\n"
     ]
    }
   ],
   "source": [
    "# Filtrar solo fraudes para entrenar la GAN\n",
    "fraud_train = X_train[y_train == 1].copy()\n",
    "fraud_train['Class'] = 1\n",
    "\n",
    "# Entrenar CTGAN solo con fraudes\n",
    "ctgan = CTGAN(epochs=300, verbose=True)\n",
    "ctgan.fit(fraud_train)\n",
    "\n",
    "# Generar fraudes sintéticos para aumentar la proporción a 5% en el set de entrenamiento\n",
    "n_frauds_needed = int(0.05 * len(X_train)) - sum(y_train == 1)\n",
    "synthetic_frauds = ctgan.sample(n_frauds_needed)\n",
    "\n",
    "# Combinar con el set de entrenamiento real\n",
    "X_train_syn = pd.concat([X_train, synthetic_frauds.drop('Class', axis=1)])\n",
    "y_train_syn = pd.concat([y_train, synthetic_frauds['Class']])\n",
    "\n",
    "print(f\"Nuevos fraudes sintéticos: {len(synthetic_frauds)}\")\n",
    "print(f\"Total fraudes en entrenamiento: {sum(y_train_syn == 1)}\")"
   ]
  },
  {
   "cell_type": "markdown",
   "id": "db97dd27",
   "metadata": {},
   "source": [
    "## Entrenamiento de modelo tradicional (RandomForest)"
   ]
  },
  {
   "cell_type": "code",
   "execution_count": 15,
   "id": "04e66ba6",
   "metadata": {},
   "outputs": [],
   "source": [
    "rf = RandomForestClassifier(n_estimators=100, random_state=42, class_weight='balanced')\n",
    "rf.fit(X_train_syn, y_train_syn)\n",
    "\n",
    "# Predicción en test\n",
    "y_pred = rf.predict(X_test)\n",
    "y_proba = rf.predict_proba(X_test)[:,1]"
   ]
  },
  {
   "cell_type": "markdown",
   "id": "6af07a42",
   "metadata": {},
   "source": [
    "## Evaluación del modelo"
   ]
  },
  {
   "cell_type": "code",
   "execution_count": null,
   "id": "fa93bb85",
   "metadata": {},
   "outputs": [
    {
     "name": "stdout",
     "output_type": "stream",
     "text": [
      "              precision    recall  f1-score   support\n",
      "\n",
      "           0     0.9996    0.9998    0.9997     56864\n",
      "           1     0.8966    0.7959    0.8432        98\n",
      "\n",
      "    accuracy                         0.9995     56962\n",
      "   macro avg     0.9481    0.8979    0.9215     56962\n",
      "weighted avg     0.9995    0.9995    0.9995     56962\n",
      "\n"
     ]
    },
    {
     "data": {
      "image/png": "[encoded data removed]",
      "text/plain": [
       "<Figure size 1000x600 with 2 Axes>"
      ]
     },
     "metadata": {},
     "output_type": "display_data"
    },
    {
     "name": "stdout",
     "output_type": "stream",
     "text": [
      "PR-AUC: 0.8656\n"
     ]
    },
    {
     "data": {
      "image/png": "[encoded data removed]",
      "text/plain": [
       "<Figure size 1000x600 with 1 Axes>"
      ]
     },
     "metadata": {},
     "output_type": "display_data"
    }
   ],
   "source": [
    "print(classification_report(y_test, y_pred, digits=4))\n",
    "cm = confusion_matrix(y_test, y_pred)\n",
    "sns.heatmap(cm, annot=True, fmt='d', cmap='Blues')\n",
    "plt.title('Matriz de confusión')\n",
    "plt.xlabel('Predicción')\n",
    "plt.ylabel('Real')\n",
    "plt.show()\n",
    "\n",
    "# Precision-Recall AUC\n",
    "precision, recall, _ = precision_recall_curve(y_test, y_proba)\n",
    "pr_auc = auc(recall, precision)\n",
    "print(f'PR-AUC: {pr_auc:.4f}')\n",
    "plt.plot(recall, precision, label=f'PR-AUC={pr_auc:.4f}')\n",
    "plt.xlabel('Recall')\n",
    "plt.ylabel('Precision')\n",
    "plt.title('Precision-Recall Curve')\n",
    "plt.legend()\n",
    "plt.show()"
   ]
  },
  {
   "cell_type": "markdown",
   "id": "4fc05129",
   "metadata": {},
   "source": [
    "Clase 0 (No Fraude):\n",
    "\n",
    "- Precision: 0.9996 — De todas las transacciones predichas como no fraude, el 99.96% realmente no eran fraude.\n",
    "- Recall: 0.9998 — De todas las transacciones realmente no fraudulentas, el 99.98% fueron correctamente identificadas.\n",
    "- F1-score: 0.9997 — Excelente equilibrio entre precisión y recall.\n",
    "\n",
    "Clase 1 (Fraude):\n",
    "\n",
    "- Precision: 0.8966 — De todas las transacciones predichas como fraude, el 89.66% realmente eran fraude.\n",
    "- Recall: 0.7959 — De todos los fraudes reales, el 79.59% fueron detectados por el modelo.\n",
    "- F1-score: 0.8432 — Buen equilibrio, aunque menor que la clase mayoritaria.\n",
    "\n",
    "Promedios:\n",
    "\n",
    "- Accuracy: 0.9995 — El modelo acierta en el 99.95% de los casos, pero recuerda que el dataset está muy desbalanceado.\n",
    "- Macro avg: 0.9481 (precision), 0.8979 (recall), 0.9215 (f1-score) — Promedio simple entre clases.\n",
    "- Weighted avg: 0.9995 — Promedio ponderado por la cantidad de ejemplos de cada clase.\n",
    "\n",
    "\n",
    "**PR-AUC: 0.8656**\n",
    "Esta métrica es especialmente relevante en datasets desbalanceados.\n",
    "Un valor de 0.86 indica que el modelo logra un buen equilibrio entre detectar fraudes (recall) y evitar falsos positivos (precision).\n",
    "La curva muestra que el modelo mantiene alta precisión para la mayoría de los valores de recall, pero cae al acercarse a recall=1 (lo cual es normal)."
   ]
  },
  {
   "cell_type": "markdown",
   "id": "90f6a3c3",
   "metadata": {},
   "source": [
    "## Conclusiones\n",
    "\n",
    "- El uso de GANs (CTGAN) permite balancear el dataset y mejorar la detección de fraudes.\n",
    "- Es importante validar que los datos sintéticos no generen overfitting."
   ]
  }
 ],
 "metadata": {
  "kernelspec": {
   "display_name": ".venv",
   "language": "python",
   "name": "python3"
  },
  "language_info": {
   "codemirror_mode": {
    "name": "ipython",
    "version": 3
   },
   "file_extension": ".py",
   "mimetype": "text/x-python",
   "name": "python",
   "nbconvert_exporter": "python",
   "pygments_lexer": "ipython3",
   "version": "3.10.11"
  }
 },
 "nbformat": 4,
 "nbformat_minor": 5
}
